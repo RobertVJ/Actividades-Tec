{
  "nbformat": 4,
  "nbformat_minor": 0,
  "metadata": {
    "colab": {
      "provenance": []
    },
    "kernelspec": {
      "name": "python3",
      "display_name": "Python 3"
    },
    "language_info": {
      "name": "python"
    }
  },
  "cells": [
    {
      "cell_type": "code",
      "execution_count": 3,
      "metadata": {
        "id": "NukY3cbNot5l",
        "colab": {
          "base_uri": "https://localhost:8080/",
          "height": 192
        },
        "outputId": "0ba48dca-30a1-470d-e2d9-7e1f6c9a5d3c"
      },
      "outputs": [
        {
          "output_type": "execute_result",
          "data": {
            "text/plain": [
              "'\\nMomento de Retroalimentación: Módulo 3 NLP Module Project.\\n(Implemantation Portafolio )\\n\\nFecha Inicio del Trabajo:  27/08/2022\\n\\nFecha de Finalizado: 12/11/2022\\n\\n\\nNombre: Roberto Valdez\\n\\nMatricula: A01746863\\n\\n\\nIntroductions:\\n\\nThis homework is designed to give you a glimpse of \\nwhat it’s like to be an NLP-focused software developer \\nin industry.  All of these are realistic tasks, \\nloosely based upon work I have done for real companies! \\n\\n\\nPlease write your own code. I will read all code,\\nand if two students’ code is suspiciously similar \\n(i.e. obviously copied from another),\\nit will result in a 0 score for all involved parties. \\nIt is okay to discuss the project and approaches at a \\nhigh level with your classmates, but it is not okay \\nto copy-paste code from a friend.\\n\\nEvaluation Metrics link: \\nhttps://experiencia21.tec.mx/courses/315342/assignments/9856676\\n\\n\\nTasks: \\n\\n2. NER: Take a basic, pretrained NER model, and train \\nfurther on a task-specific dataset\\n\\n * Start from Huggingface basic NER, then set up a trainer to further train\\n * This is probably the hardest part of the homework, so start early! \\n * Example datasets: \\n    * Twitter_dataset\\n    * Medical_dataset\\n  * You can use any other dataset – you choose! \\n  Any of the models from here.\\n  will be nicer for you, because you can use \\n  huggingface’s load_dataset method to do the dataloading for you.\\n \\n\\n  * Suggestion: create a ModelTrainer class that loads the dataset,\\n  loads the base model, and trains. \\n  (ModelTrainer could have smaller helper classes \\n  that you write as well!) and then do something like:\\n  \\n    model_trainer = ModelTrainer()\\n\\n    model_trainer.train()\\n\\n \\n  * Please set a constant in the code called\\n   N_EXAMPLES_TO_TRAIN that limits the training to \\n   that number of examples, so that I can run the code \\n   without waiting for it to run over the entire dataset, if large.\\n  * WHAT TO PRINT:  graph(s) of train set error and \\n  test set error rate during training.\\n  \\nThese can be done using pyplotlib, or similar\\n \\n'"
            ],
            "application/vnd.google.colaboratory.intrinsic+json": {
              "type": "string"
            }
          },
          "metadata": {},
          "execution_count": 3
        }
      ],
      "source": [
        "\"\"\"\n",
        "Momento de Retroalimentación: Módulo 3 NLP Module Project.\n",
        "(Implemantation Portafolio )\n",
        "\n",
        "Fecha Inicio del Trabajo:  27/08/2022\n",
        "\n",
        "Fecha de Finalizado: 12/11/2022\n",
        "\n",
        "\n",
        "Nombre: Roberto Valdez\n",
        "\n",
        "Matricula: A01746863\n",
        "\n",
        "\n",
        "Introductions:\n",
        "\n",
        "This homework is designed to give you a glimpse of \n",
        "what it’s like to be an NLP-focused software developer \n",
        "in industry.  All of these are realistic tasks, \n",
        "loosely based upon work I have done for real companies! \n",
        "\n",
        "\n",
        "Please write your own code. I will read all code,\n",
        "and if two students’ code is suspiciously similar \n",
        "(i.e. obviously copied from another),\n",
        "it will result in a 0 score for all involved parties. \n",
        "It is okay to discuss the project and approaches at a \n",
        "high level with your classmates, but it is not okay \n",
        "to copy-paste code from a friend.\n",
        "\n",
        "Evaluation Metrics link: \n",
        "https://experiencia21.tec.mx/courses/315342/assignments/9856676\n",
        "\n",
        "\n",
        "Tasks: \n",
        "\n",
        "2. NER: Take a basic, pretrained NER model, and train \n",
        "further on a task-specific dataset\n",
        "\n",
        " * Start from Huggingface basic NER, then set up a trainer to further train\n",
        " * This is probably the hardest part of the homework, so start early! \n",
        " * Example datasets: \n",
        "    * Twitter_dataset\n",
        "    * Medical_dataset\n",
        "  * You can use any other dataset – you choose! \n",
        "  Any of the models from here.\n",
        "  will be nicer for you, because you can use \n",
        "  huggingface’s load_dataset method to do the dataloading for you.\n",
        " \n",
        "\n",
        "  * Suggestion: create a ModelTrainer class that loads the dataset,\n",
        "  loads the base model, and trains. \n",
        "  (ModelTrainer could have smaller helper classes \n",
        "  that you write as well!) and then do something like:\n",
        "  \n",
        "    model_trainer = ModelTrainer()\n",
        "\n",
        "    model_trainer.train()\n",
        "\n",
        " \n",
        "  * Please set a constant in the code called\n",
        "   N_EXAMPLES_TO_TRAIN that limits the training to \n",
        "   that number of examples, so that I can run the code \n",
        "   without waiting for it to run over the entire dataset, if large.\n",
        "  * WHAT TO PRINT:  graph(s) of train set error and \n",
        "  test set error rate during training.\n",
        "  \n",
        "These can be done using pyplotlib, or similar\n",
        " \n",
        "\"\"\""
      ]
    },
    {
      "cell_type": "code",
      "source": [
        "import json\n",
        "import spacy\n",
        "from spacy import displacy\n",
        "import numpy as np\n",
        "from sklearn import linear_model\n",
        "from sklearn.datasets import make_regression\n",
        "from sklearn.model_selection import train_test_split\n",
        "import matplotlib.pyplot as plt"
      ],
      "metadata": {
        "id": "J8x1lHR1qlOC"
      },
      "execution_count": 4,
      "outputs": []
    },
    {
      "cell_type": "code",
      "source": [
        "class nlpactivity2:\n",
        "  # _init_ method\n",
        "  def __init__(self, json_file):\n",
        "     self.json_file = json_file \n",
        "\n",
        "  def subsets(json_file):\n",
        "    with open(json_file) as f:\n",
        "      lines = json.load(f)\n",
        "    train, test = train_test_split(lines[\"examples\"], test_size=0.3)\n",
        "    val, test = train_test_split(test, test_size=0.5)\n",
        "    return train, test, val\n",
        "\n",
        "  def model_ner_training(jsonFile):\n",
        "    train, test, val = nlpactivity2.subsets(jsonFile)\n",
        "    ner = spacy.load(\"en_core_web_sm\")\n",
        "    i = 0\n",
        "    for i in range(len(train)):\n",
        "      raw_text = train[i]\n",
        "      #print(raw_text[\"content\"])\n",
        "      text = ner(raw_text[\"content\"])\n",
        "      for word in text.ents:\n",
        "          print(word.text,word.label_)\n",
        "      i += 1\n",
        "\n",
        "  def ner_display_render(jsonFile):\n",
        "    train, test, val = nlpactivity2.subsets(jsonFile)\n",
        "    ner = spacy.load(\"en_core_web_sm\")\n",
        "    i = 0\n",
        "    for i in range(len(train)):\n",
        "      raw_text = train[i]\n",
        "      #print(raw_text[\"content\"])\n",
        "      text = ner(raw_text[\"content\"])\n",
        "    displacy.render(text,style=\"ent\",jupyter=True)\n",
        "    \n"
      ],
      "metadata": {
        "id": "suPHxDdhTCIX"
      },
      "execution_count": 7,
      "outputs": []
    },
    {
      "cell_type": "code",
      "source": [
        "ner = nlpactivity2.model_ner_training('./Corona2.json')"
      ],
      "metadata": {
        "colab": {
          "base_uri": "https://localhost:8080/"
        },
        "id": "EthVgB8hV_aj",
        "outputId": "626361cc-87fb-4efd-c8eb-10765c42e085"
      },
      "execution_count": 8,
      "outputs": [
        {
          "output_type": "stream",
          "name": "stdout",
          "text": [
            "Epstein–Barr PRODUCT\n",
            "at least one CARDINAL\n",
            "Yersinia GPE\n",
            "at least three CARDINAL\n",
            "a few days DATE\n",
            "Pepto-Bismol ORG\n",
            "neuromyotonia GPE\n",
            "TB ORG\n",
            "6 CARDINAL\n",
            "infliximab ORG\n",
            "Rituximab PERSON\n",
            "Hydroxychloroquine PRODUCT\n",
            "RA ORG\n",
            "6–12 months DATE\n",
            "2 years.[89 DATE\n",
            "Sulfasalazine ORG\n",
            "Sodium ORG\n",
            "RA ORG\n",
            "effects.[8][92] LOC\n",
            "DMARD ORG\n",
            "first ORDINAL\n",
            "HAQ ORG\n",
            "RA ORG\n",
            "M2 CARDINAL\n",
            "M2 drug target.[160] Measured PRODUCT\n",
            "American NORP\n",
            "91% PERCENT\n",
            "China GPE\n",
            "CDC ORG\n",
            "M2 CARDINAL\n",
            "2005–06 ORDINAL\n",
            "first ORDINAL\n",
            "FDA ORG\n",
            "first ORDINAL\n",
            "One CARDINAL\n",
            "SNRI ORG\n",
            "social phobia ORG\n",
            "five CARDINAL\n",
            "European NORP\n",
            "TCA ORG\n",
            "CR GPE\n",
            "about 90% PERCENT\n",
            "About 25% PERCENT\n",
            "Rasmussen PERSON\n",
            "NSAIDs ORG\n",
            "symptoms.[1 ORG\n",
            "disease.[1] Biological DMARDs PRODUCT\n",
            "about 2 million CARDINAL\n",
            "Streptococcus and Pseudomonas ORG\n",
            "Shigella ORG\n",
            "Salmonella ORG\n",
            "Hansen ORG\n",
            "between 1 and 5 CARDINAL\n",
            "One CARDINAL\n",
            "about 2 million CARDINAL\n",
            "Streptococcus and Pseudomonas ORG\n",
            "Shigella ORG\n",
            "Salmonella ORG\n",
            "1982–1995 CARDINAL\n",
            "TB ORG\n",
            "three to nine months DATE\n",
            "TB ORG\n",
            "ART ORG\n",
            "ART ORG\n",
            "Lactobacilli GPE\n",
            "Trichomonas GPE\n",
            "Bacterial ORG\n",
            "Escherichia PERSON\n",
            "Urine PERSON\n",
            "Bacteria PERSON\n",
            "Escherichia NORP\n",
            "Staphylococcus ORG\n",
            "Streptococcus pyogenes.[13]\n",
            "Erysipelas ORG\n",
            "Cellulitis PRODUCT\n",
            "two CARDINAL\n",
            "Mouyassué PERSON\n",
            "banana pipistrelle ORG\n",
            "Mouyassué GPE\n",
            "Cote d'Ivoire GPE\n",
            "West Africa GPE\n",
            "Magboi PERSON\n",
            "hairy slit-faced PERSON\n",
            "the Magboi River LOC\n",
            "Sierra Leone ORG\n",
            "2011 DATE\n",
            "RNA ORG\n",
            "Bunyaviridae GPE\n",
            "Gabapentin GPE\n",
            "neuralgia GPE\n",
            "disorder1 ORG\n"
          ]
        }
      ]
    },
    {
      "cell_type": "code",
      "source": [
        "disp = nlpactivity2.ner_display_render('./Corona2.json')"
      ],
      "metadata": {
        "colab": {
          "base_uri": "https://localhost:8080/",
          "height": 282
        },
        "id": "lZeCoq9UA-KB",
        "outputId": "2d29385c-18eb-434c-dc6a-6c8a366a9f83"
      },
      "execution_count": 9,
      "outputs": [
        {
          "output_type": "display_data",
          "data": {
            "text/plain": [
              "<IPython.core.display.HTML object>"
            ],
            "text/html": [
              "<span class=\"tex2jax_ignore\"><div class=\"entities\" style=\"line-height: 2.5; direction: ltr\">Although the vast majority of bacteria are harmless or beneficial to one's body, a few pathogenic bacteria can cause infectious diseases. The most common bacterial disease is tuberculosis, caused by the bacterium Mycobacterium tuberculosis, which affects \n",
              "<mark class=\"entity\" style=\"background: #e4e7d2; padding: 0.45em 0.6em; margin: 0 0.25em; line-height: 1; border-radius: 0.35em;\">\n",
              "    about 2 million\n",
              "    <span style=\"font-size: 0.8em; font-weight: bold; line-height: 1; border-radius: 0.35em; vertical-align: middle; margin-left: 0.5rem\">CARDINAL</span>\n",
              "</mark>\n",
              " people mostly in sub-Saharan Africa. Pathogenic bacteria contribute to other globally important diseases, such as pneumonia, which can be caused by bacteria such as \n",
              "<mark class=\"entity\" style=\"background: #7aecec; padding: 0.45em 0.6em; margin: 0 0.25em; line-height: 1; border-radius: 0.35em;\">\n",
              "    Streptococcus and Pseudomonas\n",
              "    <span style=\"font-size: 0.8em; font-weight: bold; line-height: 1; border-radius: 0.35em; vertical-align: middle; margin-left: 0.5rem\">ORG</span>\n",
              "</mark>\n",
              ", and foodborne illnesses, which can be caused by bacteria such as \n",
              "<mark class=\"entity\" style=\"background: #7aecec; padding: 0.45em 0.6em; margin: 0 0.25em; line-height: 1; border-radius: 0.35em;\">\n",
              "    Shigella\n",
              "    <span style=\"font-size: 0.8em; font-weight: bold; line-height: 1; border-radius: 0.35em; vertical-align: middle; margin-left: 0.5rem\">ORG</span>\n",
              "</mark>\n",
              ", Campylobacter, and \n",
              "<mark class=\"entity\" style=\"background: #7aecec; padding: 0.45em 0.6em; margin: 0 0.25em; line-height: 1; border-radius: 0.35em;\">\n",
              "    Salmonella\n",
              "    <span style=\"font-size: 0.8em; font-weight: bold; line-height: 1; border-radius: 0.35em; vertical-align: middle; margin-left: 0.5rem\">ORG</span>\n",
              "</mark>\n",
              ". Pathogenic bacteria also cause infections such as tetanus, typhoid fever, diphtheria, syphilis, and \n",
              "<mark class=\"entity\" style=\"background: #7aecec; padding: 0.45em 0.6em; margin: 0 0.25em; line-height: 1; border-radius: 0.35em;\">\n",
              "    Hansen\n",
              "    <span style=\"font-size: 0.8em; font-weight: bold; line-height: 1; border-radius: 0.35em; vertical-align: middle; margin-left: 0.5rem\">ORG</span>\n",
              "</mark>\n",
              "'s disease. They typically range \n",
              "<mark class=\"entity\" style=\"background: #e4e7d2; padding: 0.45em 0.6em; margin: 0 0.25em; line-height: 1; border-radius: 0.35em;\">\n",
              "    between 1 and 5\n",
              "    <span style=\"font-size: 0.8em; font-weight: bold; line-height: 1; border-radius: 0.35em; vertical-align: middle; margin-left: 0.5rem\">CARDINAL</span>\n",
              "</mark>\n",
              " micrometers in length.</div></span>"
            ]
          },
          "metadata": {}
        }
      ]
    }
  ]
}
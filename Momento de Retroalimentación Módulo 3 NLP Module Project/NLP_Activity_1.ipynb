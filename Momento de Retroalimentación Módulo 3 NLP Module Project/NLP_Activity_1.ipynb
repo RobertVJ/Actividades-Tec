{
  "nbformat": 4,
  "nbformat_minor": 0,
  "metadata": {
    "colab": {
      "provenance": []
    },
    "kernelspec": {
      "name": "python3",
      "display_name": "Python 3"
    },
    "language_info": {
      "name": "python"
    }
  },
  "cells": [
    {
      "cell_type": "code",
      "execution_count": 1,
      "metadata": {
        "id": "AFY7NkDMExYB",
        "colab": {
          "base_uri": "https://localhost:8080/",
          "height": 244
        },
        "outputId": "45078e42-82e8-4541-90a0-3ca3ed394b26"
      },
      "outputs": [
        {
          "output_type": "execute_result",
          "data": {
            "text/plain": [
              "'\\nMomento de Retroalimentación: Módulo 3 NLP Module Project.\\n(Implemantation Portafolio )\\n\\nFecha Inicio del Trabajo:  27/08/2022\\n\\nFecha de Finalizado: 11/08/2022\\n\\n\\nNombre: Roberto Valdez\\n\\nMatricula: A01746863\\n\\n\\nIntroductions:\\n\\nThis homework is designed to give you a glimpse of \\nwhat it’s like to be an NLP-focused software developer in industry.  All of these are realistic tasks, loosely based upon work I have done for real companies! \\n\\n\\nPlease write your own code. I will read all code,\\nand if two students’ code is suspiciously similar \\n(i.e. obviously copied from another),\\nit will result in a 0 score for all involved parties. \\nIt is okay to discuss the project and approaches at a \\nhigh level with your classmates, but it is not okay \\nto copy-paste code from a friend.\\n\\nEvaluation Metrics link: \\nhttps://experiencia21.tec.mx/courses/315342/assignments/9856676\\n\\n\\nTasks: \\n\\n1. Warm up: Out of the Box Sentiment Analysis \\n * Use any (reasonable) model from the internet to \\n     do sentiment analysis on this tiny dataset.\\n * You do not need to train a model.\\n * This should be relatively few lines of code!\\n * WHAT TO PRINT: \\n    * For each line of text, “POSITIVE” or \\n    “NEGATIVE”. There are 20 reviews, so this should be 20 lines. \\n    * Example: \\nPOSITIVE\\n\\nNEGATIVE\\n\\n…\\n\\nNEGATIVE \\n'"
            ],
            "application/vnd.google.colaboratory.intrinsic+json": {
              "type": "string"
            }
          },
          "metadata": {},
          "execution_count": 1
        }
      ],
      "source": [
        "\"\"\"\n",
        "Momento de Retroalimentación: Módulo 3 NLP Module Project.\n",
        "(Implemantation Portafolio )\n",
        "\n",
        "Fecha Inicio del Trabajo:  27/08/2022\n",
        "\n",
        "Fecha de Finalizado: 11/08/2022\n",
        "\n",
        "\n",
        "Nombre: Roberto Valdez\n",
        "\n",
        "Matricula: A01746863\n",
        "\n",
        "\n",
        "Introductions:\n",
        "\n",
        "This homework is designed to give you a glimpse of \n",
        "what it’s like to be an NLP-focused software developer in industry.  All of these are realistic tasks, loosely based upon work I have done for real companies! \n",
        "\n",
        "\n",
        "Please write your own code. I will read all code,\n",
        "and if two students’ code is suspiciously similar \n",
        "(i.e. obviously copied from another),\n",
        "it will result in a 0 score for all involved parties. \n",
        "It is okay to discuss the project and approaches at a \n",
        "high level with your classmates, but it is not okay \n",
        "to copy-paste code from a friend.\n",
        "\n",
        "Evaluation Metrics link: \n",
        "https://experiencia21.tec.mx/courses/315342/assignments/9856676\n",
        "\n",
        "\n",
        "Tasks: \n",
        "\n",
        "1. Warm up: Out of the Box Sentiment Analysis \n",
        " * Use any (reasonable) model from the internet to \n",
        "     do sentiment analysis on this tiny dataset.\n",
        " * You do not need to train a model.\n",
        " * This should be relatively few lines of code!\n",
        " * WHAT TO PRINT: \n",
        "    * For each line of text, “POSITIVE” or \n",
        "    “NEGATIVE”. There are 20 reviews, so this should be 20 lines. \n",
        "    * Example: \n",
        "POSITIVE\n",
        "\n",
        "NEGATIVE\n",
        "\n",
        "…\n",
        "\n",
        "NEGATIVE \n",
        "\"\"\""
      ]
    },
    {
      "cell_type": "code",
      "source": [
        "# download command for textblob library with pip\n",
        "!python -m textblob.download_corpora"
      ],
      "metadata": {
        "colab": {
          "base_uri": "https://localhost:8080/"
        },
        "id": "-t3MFcRqFB3Y",
        "outputId": "114dbcc4-de01-4ce0-a024-7a40663ff84a"
      },
      "execution_count": 4,
      "outputs": [
        {
          "output_type": "stream",
          "name": "stdout",
          "text": [
            "[nltk_data] Downloading package brown to /root/nltk_data...\n",
            "[nltk_data]   Unzipping corpora/brown.zip.\n",
            "[nltk_data] Downloading package punkt to /root/nltk_data...\n",
            "[nltk_data]   Unzipping tokenizers/punkt.zip.\n",
            "[nltk_data] Downloading package wordnet to /root/nltk_data...\n",
            "[nltk_data] Downloading package averaged_perceptron_tagger to\n",
            "[nltk_data]     /root/nltk_data...\n",
            "[nltk_data]   Unzipping taggers/averaged_perceptron_tagger.zip.\n",
            "[nltk_data] Downloading package conll2000 to /root/nltk_data...\n",
            "[nltk_data]   Unzipping corpora/conll2000.zip.\n",
            "[nltk_data] Downloading package movie_reviews to /root/nltk_data...\n",
            "[nltk_data]   Unzipping corpora/movie_reviews.zip.\n",
            "Finished.\n"
          ]
        }
      ]
    },
    {
      "cell_type": "code",
      "source": [
        "# Library for this Activity\n",
        "from textblob import TextBlob as textblob"
      ],
      "metadata": {
        "id": "1SqCYyScFWYh"
      },
      "execution_count": 5,
      "outputs": []
    },
    {
      "cell_type": "code",
      "source": [
        "# Class NLPActivity_1\n",
        "class nlpactivity1:\n",
        "  # _init_ method\n",
        "  def __init__(self, text):\n",
        "    self.text = text # text variable\n",
        "  # text_emotion analysis method\n",
        "  \"\"\"\n",
        "  This method supports us in opening and reading \n",
        "  the document by line and generating the prediction \n",
        "  of the emotion of the extracted line to review.\n",
        "  \"\"\"\n",
        "  def text_emotion_analysis(text):\n",
        "    # Open and reading the text file \n",
        "    with open(text, \"r\") as file:\n",
        "      for textLine in file:\n",
        "          extract = textblob(textLine.strip().split('<br /><br />')[0])\n",
        "          polarity = extract.polarity\n",
        "          if polarity < 0: \n",
        "            print(\"The emotion of the text is:  Negative\")\n",
        "          elif polarity >= 0:\n",
        "            print(\"The emotion of the text is:  Positive\")"
      ],
      "metadata": {
        "id": "GkrRIE5EFcKB"
      },
      "execution_count": 6,
      "outputs": []
    },
    {
      "cell_type": "code",
      "source": [
        "result = nlpactivity1.text_emotion_analysis(\"./tiny_movie_reviews_dataset.txt\")\n",
        "\"\"\"\n",
        "As we see the result, once the document has been read \n",
        "and extracted with the Polarity method of the textblob \n",
        "library, we can see that it performs a binary prediction \n",
        "(positive or negative) based on the revised text on the txt file, \n",
        "thus giving the expected result for this activity\n",
        "\"\"\"\n",
        "\n",
        "\"\"\"\n",
        " txt  local path: /content/tiny_movie_reviews_dataset.txt\n",
        "\"\"\""
      ],
      "metadata": {
        "colab": {
          "base_uri": "https://localhost:8080/",
          "height": 383
        },
        "id": "_nS9TXODFf97",
        "outputId": "12db88f0-77be-4ac2-efcf-50c28b801866"
      },
      "execution_count": 7,
      "outputs": [
        {
          "output_type": "stream",
          "name": "stdout",
          "text": [
            "The emotion of the text is:  Positive\n",
            "The emotion of the text is:  Positive\n",
            "The emotion of the text is:  Positive\n",
            "The emotion of the text is:  Positive\n",
            "The emotion of the text is:  Positive\n",
            "The emotion of the text is:  Positive\n",
            "The emotion of the text is:  Negative\n",
            "The emotion of the text is:  Positive\n",
            "The emotion of the text is:  Negative\n",
            "The emotion of the text is:  Positive\n",
            "The emotion of the text is:  Positive\n",
            "The emotion of the text is:  Positive\n",
            "The emotion of the text is:  Positive\n",
            "The emotion of the text is:  Negative\n",
            "The emotion of the text is:  Positive\n",
            "The emotion of the text is:  Positive\n",
            "The emotion of the text is:  Positive\n",
            "The emotion of the text is:  Positive\n",
            "The emotion of the text is:  Positive\n",
            "The emotion of the text is:  Negative\n"
          ]
        },
        {
          "output_type": "execute_result",
          "data": {
            "text/plain": [
              "'\\n txt  local path: /content/tiny_movie_reviews_dataset.txt\\n'"
            ],
            "application/vnd.google.colaboratory.intrinsic+json": {
              "type": "string"
            }
          },
          "metadata": {},
          "execution_count": 7
        }
      ]
    }
  ]
}